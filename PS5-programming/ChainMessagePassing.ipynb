{
 "cells": [
  {
   "cell_type": "markdown",
   "metadata": {},
   "source": [
    "### Chain Message Passing\n",
    " Demo for chain-based message passing\n",
    " Boston Univeristy\n",
    " For the students in CA 542 Machine Learning"
   ]
  },
  {
   "cell_type": "code",
   "execution_count": 1,
   "metadata": {},
   "outputs": [],
   "source": [
    "import numpy as np\n",
    "import numpy.matlib\n",
    "import matplotlib.pyplot as plt\n",
    "###############################\n",
    "# 0. Set the parameter numbers#\n",
    "###############################\n",
    "# number of nodes\n",
    "N = 10\n",
    "\n",
    "# number of states\n",
    "K = 256\n",
    "\n",
    "# the coefficients for data term\n",
    "lambda_data = 0.04\n",
    "\n",
    "# the coefficients for the smoothness term\n",
    "lambda_smooth = 0.04\n",
    "\n",
    "# the potencial function\n",
    "m_potential_func = 'L1'\n"
   ]
  },
  {
   "cell_type": "code",
   "execution_count": 3,
   "metadata": {},
   "outputs": [
    {
     "name": "stdout",
     "output_type": "stream",
     "text": [
      "[0.00390625 0.00390625 0.00390625 0.00390625 0.00390625 0.00390625\n",
      " 0.00390625 0.00390625 0.00390625 0.00390625 0.00390625 0.00390625\n",
      " 0.00390625 0.00390625 0.00390625 0.00390625 0.00390625 0.00390625\n",
      " 0.00390625 0.00390625 0.00390625 0.00390625 0.00390625 0.00390625\n",
      " 0.00390625 0.00390625 0.00390625 0.00390625 0.00390625 0.00390625\n",
      " 0.00390625 0.00390625 0.00390625 0.00390625 0.00390625 0.00390625\n",
      " 0.00390625 0.00390625 0.00390625 0.00390625 0.00390625 0.00390625\n",
      " 0.00390625 0.00390625 0.00390625 0.00390625 0.00390625 0.00390625\n",
      " 0.00390625 0.00390625 0.00390625 0.00390625 0.00390625 0.00390625\n",
      " 0.00390625 0.00390625 0.00390625 0.00390625 0.00390625 0.00390625\n",
      " 0.00390625 0.00390625 0.00390625 0.00390625 0.00390625 0.00390625\n",
      " 0.00390625 0.00390625 0.00390625 0.00390625 0.00390625 0.00390625\n",
      " 0.00390625 0.00390625 0.00390625 0.00390625 0.00390625 0.00390625\n",
      " 0.00390625 0.00390625 0.00390625 0.00390625 0.00390625 0.00390625\n",
      " 0.00390625 0.00390625 0.00390625 0.00390625 0.00390625 0.00390625\n",
      " 0.00390625 0.00390625 0.00390625 0.00390625 0.00390625 0.00390625\n",
      " 0.00390625 0.00390625 0.00390625 0.00390625 0.00390625 0.00390625\n",
      " 0.00390625 0.00390625 0.00390625 0.00390625 0.00390625 0.00390625\n",
      " 0.00390625 0.00390625 0.00390625 0.00390625 0.00390625 0.00390625\n",
      " 0.00390625 0.00390625 0.00390625 0.00390625 0.00390625 0.00390625\n",
      " 0.00390625 0.00390625 0.00390625 0.00390625 0.00390625 0.00390625\n",
      " 0.00390625 0.00390625 0.00390625 0.00390625 0.00390625 0.00390625\n",
      " 0.00390625 0.00390625 0.00390625 0.00390625 0.00390625 0.00390625\n",
      " 0.00390625 0.00390625 0.00390625 0.00390625 0.00390625 0.00390625\n",
      " 0.00390625 0.00390625 0.00390625 0.00390625 0.00390625 0.00390625\n",
      " 0.00390625 0.00390625 0.00390625 0.00390625 0.00390625 0.00390625\n",
      " 0.00390625 0.00390625 0.00390625 0.00390625 0.00390625 0.00390625\n",
      " 0.00390625 0.00390625 0.00390625 0.00390625 0.00390625 0.00390625\n",
      " 0.00390625 0.00390625 0.00390625 0.00390625 0.00390625 0.00390625\n",
      " 0.00390625 0.00390625 0.00390625 0.00390625 0.00390625 0.00390625\n",
      " 0.00390625 0.00390625 0.00390625 0.00390625 0.00390625 0.00390625\n",
      " 0.00390625 0.00390625 0.00390625 0.00390625 0.00390625 0.00390625\n",
      " 0.00390625 0.00390625 0.00390625 0.00390625 0.00390625 0.00390625\n",
      " 0.00390625 0.00390625 0.00390625 0.00390625 0.00390625 0.00390625\n",
      " 0.00390625 0.00390625 0.00390625 0.00390625 0.00390625 0.00390625\n",
      " 0.00390625 0.00390625 0.00390625 0.00390625 0.00390625 0.00390625\n",
      " 0.00390625 0.00390625 0.00390625 0.00390625 0.00390625 0.00390625\n",
      " 0.00390625 0.00390625 0.00390625 0.00390625 0.00390625 0.00390625\n",
      " 0.00390625 0.00390625 0.00390625 0.00390625 0.00390625 0.00390625\n",
      " 0.00390625 0.00390625 0.00390625 0.00390625 0.00390625 0.00390625\n",
      " 0.00390625 0.00390625 0.00390625 0.00390625 0.00390625 0.00390625\n",
      " 0.00390625 0.00390625 0.00390625 0.00390625 0.00390625 0.00390625\n",
      " 0.00390625 0.00390625 0.00390625 0.00390625]\n"
     ]
    }
   ],
   "source": [
    "import matplotlib.image as mpimg\n",
    "import matplotlib._png as png\n",
    "import numpy as np\n",
    "import numpy.matlib\n",
    "data = png.read_png_int(\"Lena-noise.png\")\n",
    "psi = np.zeros(data.shape).tolist()\n",
    "foo = np.matlib.repmat(np.arange(1,K+1,1),K,1)\n",
    "dist = abs(foo - np.transpose(foo))\n",
    "a = np.arange(0,K,1)\n",
    "a = np.matlib.repmat(a,K,1)\n",
    "p = 1/K**2 + np.zeros((K,K))\n",
    "print(sum(p))\n"
   ]
  },
  {
   "cell_type": "code",
   "execution_count": 27,
   "metadata": {},
   "outputs": [
    {
     "name": "stdout",
     "output_type": "stream",
     "text": [
      "[[-0.04884477 -0.08884477]\n",
      " [-0.04884477 -0.00884477]]\n"
     ]
    }
   ],
   "source": [
    "##################################\n",
    "# 1. Setup the potential function#\n",
    "##################################\n",
    "# data is the observed random value\n",
    "try:\n",
    "    data\n",
    "except NameError:\n",
    "    y = np.concatenate([np.matlib.repmat(6,1,N//2), np.matlib.repmat(30,1,N//2)]).reshape((1,N))\n",
    "    data = y + np.matlib.randn(1,10)*3\n",
    "# define uniary potentials\n",
    "if m_potential_func == 'L1':\n",
    "    P = -lambda_data * abs(np.matlib.repmat(data,K,1) - np.matlib.repmat(np.arange(1,K+1,1).reshape((K,1)),1,N))\n",
    "\n",
    "elif m_potential_func == 'L2':\n",
    "    P = -lambda_data * (np.matlib.repmat(data,K,1) - np.matlib.repmat(np.arange(1,K+1,1).reshape((K,1)),1,N))**2\n",
    "foo = np.matlib.repmat(np.arange(1,K+1,1),K,1)\n",
    "dist = abs(foo - np.transpose(foo))\n",
    "psi = {}\n",
    "# define pair-wise potentials\n",
    "for i in range(N-1):\n",
    "    if m_potential_func == 'L1':\n",
    "        psi[i] = -lambda_smooth*dist\n",
    "    elif m_potential_func == 'L2':  \n",
    "        psi[i] = -lambda_smooth*dist**2;\n",
    "\n",
    "# compose the potentials\n",
    "for i in range(N-1):\n",
    "    psi[i] = np.matlib.repmat(P[:,i],1,K) + psi[i]\n",
    "psi[N-2] = np.matlib.repmat(np.transpose(P[:,N-1]),K,1) + psi[N-2]\n",
    "print(psi[0])"
   ]
  },
  {
   "cell_type": "code",
   "execution_count": 3,
   "metadata": {},
   "outputs": [],
   "source": [
    "######################\n",
    "# 2. Message passing #\n",
    "######################\n",
    "# forward and backward messages\n",
    "fm = {}\n",
    "bm = {}\n",
    "for i in range(N):\n",
    "    fm[i] = np.zeros((1,K))\n",
    "    bm[i] = np.zeros((K,1))\n",
    "    \n",
    "# energy\n",
    "fm[0] = np.log(np.sum(np.exp(psi[0]),0))\n",
    "bm[N-1] = np.log(np.sum(np.exp(psi[N-2]),1))\n",
    "fm0 = fm.copy()\n",
    "bm0 = bm.copy()\n",
    "# forward message passing\n",
    "for i in range(1, N-1):\n",
    "    fm[i] = np.log(np.sum(np.exp(np.matlib.repmat(np.transpose(fm0[i-1]),1,K) + psi[i]), 0))\n",
    "    fm[i] = fm[i] - np.min(fm[i])\n",
    "    \n",
    "# backward message\n",
    "\n",
    "for i in range(N-2,1,-1):\n",
    "    x = np.exp(np.matlib.repmat(np.transpose(bm0[i+1]),K,1) + psi[i-1])\n",
    "    x = np.sum(x, 1)\n",
    "    bm[i] = np.log(x)\n",
    "    bm[i] = bm[i] - np.min(bm[i])\n",
    "# fm0 = fm.copy()\n",
    "# bm0 = bm.copy()"
   ]
  },
  {
   "cell_type": "code",
   "execution_count": 4,
   "metadata": {},
   "outputs": [],
   "source": [
    "########################\n",
    "# 3. Compute marginals #\n",
    "########################\n",
    "marginal = {}\n",
    "for i in range(N):\n",
    "    marginal[i] = np.zeros((1,K))\n",
    "\n",
    "for i in range(N):\n",
    "    if i > 0:\n",
    "        x = (marginal[i] + fm[i-1])\n",
    "        marginal[i] = marginal[i] + fm[i-1]\n",
    "    if i < N-1:\n",
    "        marginal[i] = marginal[i] + np.transpose(bm[i+1])\n",
    "    marginal[i] = np.exp(marginal[i] - np.min(marginal[i]))\n",
    "    # normalize the marginal\n",
    "    marginal[i] = marginal[i]/ np.sum(marginal[i])\n",
    "    \n",
    "Marginals = np.zeros((K,N))\n",
    "DataOnly = np.zeros((K,N))\n",
    "\n",
    "for i in range(N):\n",
    "    Marginals[:,i] = marginal[i].reshape(K)\n",
    "    DataOnly[:,i] = np.exp(P[:,i]).reshape(K)\n",
    "    DataOnly[:,i] = DataOnly[:,i] / np.sum(DataOnly[:,i])\n"
   ]
  },
  {
   "cell_type": "code",
   "execution_count": 5,
   "metadata": {
    "scrolled": true
   },
   "outputs": [
    {
     "data": {
      "image/png": "[encoded data removed]",
      "text/plain": [
       "<Figure size 504x360 with 1 Axes>"
      ]
     },
     "metadata": {
      "needs_background": "light"
     },
     "output_type": "display_data"
    }
   ],
   "source": [
    "#####################\n",
    "# 4. Output results #\n",
    "#####################\n",
    "outputs = np.array([np.argmax(marginal[i]) for i in range(N)])\n",
    "\n",
    "plt.figure(figsize=(7,5))\n",
    "plt.plot(y[0], 'r:', label='ground-truth')\n",
    "plt.plot(np.array(data)[0],'g', label='observed')\n",
    "plt.plot(outputs,'b', label='estimated')\n",
    "plt.legend(loc='lower right')\n",
    "plt.show()\n",
    "\n"
   ]
  },
  {
   "cell_type": "code",
   "execution_count": null,
   "metadata": {},
   "outputs": [],
   "source": []
  }
 ],
 "metadata": {
  "kernelspec": {
   "display_name": "Python 3",
   "language": "python",
   "name": "python3"
  },
  "language_info": {
   "codemirror_mode": {
    "name": "ipython",
    "version": 3
   },
   "file_extension": ".py",
   "mimetype": "text/x-python",
   "name": "python",
   "nbconvert_exporter": "python",
   "pygments_lexer": "ipython3",
   "version": "3.7.6"
  }
 },
 "nbformat": 4,
 "nbformat_minor": 2
}
