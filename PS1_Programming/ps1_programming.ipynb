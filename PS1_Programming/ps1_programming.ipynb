{
 "cells": [
  {
   "cell_type": "markdown",
   "metadata": {},
   "source": [
    "# Rock paper scissor \n",
    "\n",
    "http://www.essentially.net/rsp/end.jsp \n",
    "\n",
    "### Visit the URL above. I quote from the paper:\n",
    "\n",
    "\"\"A truly random game of rock-paper-scissors would result in a statistical tie with each player winning, tying and losing one-third of the time. However, people are not truly random and thus can be studied and analyzed. While this computer won’t win all rounds, over time it can exploit a person’s tendencies and patterns to gain an advantage over its opponent.\"\"\n",
    "\n",
    "\n",
    "Now play the game of the rock-paper-scissors against the computer at least 100 times while you record the outcome (your moves & the computer’s move) at each time into a text ﬁle. Record the score at the bottom of the ﬁle, i.e. your number of wins, losses and ties out of N tries (N ≥ 100). Now use this ﬁle to come up with some algorithm that takes as input the history to how the game has been played and estimate your best move for the next round. Put this algorithm into a simple program (use python 3.x) and play the computer again at least the same number of times you played before, but this time using your program. Record the score (hopefully there is an improvement in your score!!). Hint: the more you play the better you may be at guessing\n",
    "2\n",
    "what the computer is up to. Also, note that we haven’t covered any ML techniques yet in the class yet, so this is just a warm up problem, so just do the best you can...\n"
   ]
  },
  {
   "cell_type": "code",
   "execution_count": 3,
   "metadata": {},
   "outputs": [],
   "source": [
    "from numpy import random\n",
    "# Data extraction here: extract the data from the txt file to python input\n",
    "# your input can be of any format, one suggestion is using integers 0,1,2 for rock paper scissor\n",
    "#1 = paper, 2 = scissors, 3 = rock\n",
    "f = open(\"ps1.5.txt\", \"r\")\n",
    "file = f.readlines()\n",
    "lst = []\n",
    "result = []\n",
    "for i in range(len(file)):\n",
    "    if i < len(file)- 5:\n",
    "        lst.append(file[i][:-1].split(\",\"))\n",
    "    else:\n",
    "        result.append(file[i][:-1])\n",
    "f.close()"
   ]
  },
  {
   "cell_type": "code",
   "execution_count": 203,
   "metadata": {},
   "outputs": [
    {
     "name": "stdout",
     "output_type": "stream",
     "text": [
      "3\n"
     ]
    }
   ],
   "source": [
    "#Define your algorithm here\n",
    "import numpy as np\n",
    "def rock_paper_scissor(history=None):\n",
    "    # define your function here\n",
    "    if len(history) <= 2:\n",
    "        return random.randint(3)+1\n",
    "    stat = [[0,0,0],[0,0,0],[0,0,0]]\n",
    "    mystat = [[0,0,0],[0,0,0],[0,0,0]]\n",
    "    for i in range(1, len(history)):\n",
    "        stat[int(history[i-1][0])-1][int(history[i][0])-1] += 1\n",
    "        mystat[int(history[i-1][1])-1][int(history[i][0])-1] += 1\n",
    "    final = history[-1]\n",
    "    if len(history) >=5:\n",
    "        last_five_moves = history[-5:]\n",
    "        record = {}\n",
    "        for i in range(len(last_five_moves)-1):\n",
    "            record[int(last_five_moves[i][0])] = int(last_five_moves[i+1][1])\n",
    "    if stat[int(final[0])-1].index(max(stat[int(final[0])-1])) == mystat[int(final[0])-1].index(max(mystat[int(final[0])-1])):\n",
    "        result=  stat[int(final[0])-1].index(max(stat[int(final[0])-1]))+1\n",
    "    elif max(stat[int(final[0])-1]) > max(mystat[int(final[0])-1]):\n",
    "        result= stat[int(final[0])-1].index(max(stat[int(final[0])-1]))+1\n",
    "    else:\n",
    "        result= mystat[int(final[0])-1].index(max(mystat[int(final[0])-1]))+1\n",
    "    if len(history) >=6:\n",
    "        final = np.random.choice([result,record[int(history[-1][0])]])\n",
    "    else:\n",
    "        final = result\n",
    "    if final == 1:\n",
    "        return 2\n",
    "    if final == 2:\n",
    "        return 3\n",
    "    if final == 3:\n",
    "        return 1\n",
    "     \n",
    "print(rock_paper_scissor(lst))"
   ]
  },
  {
   "cell_type": "markdown",
   "metadata": {},
   "source": [
    "# Describe your algorithm\n",
    "Please briefly describe your algorithm in a couple of sentences."
   ]
  },
  {
   "cell_type": "markdown",
   "metadata": {},
   "source": [
    "My algorithmis to build two lists, one recording the human player's own pattern.\\\n",
    "e.g we record , the times he plays paper next round, when human players play rock this round and the times he plays rock next round, when human players play rock this round\\\n",
    "the secound recording the human's corresponding move to opponent,\n",
    "e.g we record , the times he plays paper next round, when opponent players play rock this round \\\n",
    "then it records what is the last five move of human player.\n",
    "then we can see the most likely move of human player next round, and then we can give out correspoinding move by take the random choice of last five move and historical move."
   ]
  }
 ],
 "metadata": {
  "kernelspec": {
   "display_name": "Python 3",
   "language": "python",
   "name": "python3"
  },
  "language_info": {
   "codemirror_mode": {
    "name": "ipython",
    "version": 3
   },
   "file_extension": ".py",
   "mimetype": "text/x-python",
   "name": "python",
   "nbconvert_exporter": "python",
   "pygments_lexer": "ipython3",
   "version": "3.7.4"
  }
 },
 "nbformat": 4,
 "nbformat_minor": 2
}
